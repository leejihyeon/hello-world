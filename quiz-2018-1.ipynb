{
 "cells": [
  {
   "cell_type": "markdown",
   "metadata": {},
   "source": [
    "# Python Quiz\n",
    "\n",
    "안녕하세요, 니트머스 지원을 환영합니다.\n",
    "\n",
    "개발자는 면접 전에 코딩 스타일을 보여주실 필요가 있습니다. 다음에 제시하는 간단한 문제를 Python 3.5+ 로 풀어주시기 바랍니다. 표준 라이브러리에 포함되지 않은 패키지들은 사용하실 수 없습니다. 이 파일을 수정하신 후에 입사 지원서와 함께 보내주시면 됩니다. 시간 제한은 이 파일을 받으신 시점부터 72시간 입니다.\n",
    "되도록 많은 문제에 대해 답을 제시하셔야 합니다. 본인이 설명할 수 없는 코드를 제시하는 것보다는 비워두는 것이 좋습니다.\n",
    "\n",
    "\n",
    "이 문제들 외에도 오픈 소스에 참여한 이력이 있거나 저희가 살펴볼 수 있는 직접 작성한 소스코드가 있다면 도움이 됩니다. 저작권이나 기타의 이유로 공개할 수 없는 파일은 사양합니다. 파일을 첨부하시지는 말고, 공개 git 저장소의 링크만 주시면 됩니다."
   ]
  },
  {
   "cell_type": "markdown",
   "metadata": {},
   "source": [
    "## Quiz 1\n",
    "\n"
   ]
  },
  {
   "cell_type": "markdown",
   "metadata": {},
   "source": [
    "is_allowed 함수를 완성해 주세요. \n",
    "\n",
    "URL 을 크롤링하는 것이 허락되고 있는지 여부를 True 나 False 로 돌려주는 함수 입니다. robots.txt 파일을 확인해서 판단해야 합니다. robots.txt 가 없는 경우는 True 를 돌려줍니다."
   ]
  },
  {
   "cell_type": "code",
   "execution_count": 1,
   "metadata": {
    "collapsed": true
   },
   "outputs": [],
   "source": [
    "def is_allowed(url):\n",
    "    raise NotImplementedError()"
   ]
  },
  {
   "cell_type": "markdown",
   "metadata": {},
   "source": [
    "`is_allowed('http://www.nitmus.com/blog/')` 는 `False` 를, `is_allowed('http://www.nitmus.com')` 는 `True` 를 돌려주어야 합니다."
   ]
  },
  {
   "cell_type": "markdown",
   "metadata": {},
   "source": [
    "## Quiz 2\n",
    "\n",
    "Bit Vector 클래스를 설계하고 구현해주세요. \n",
    "\n",
    "Bit Vector 는 고정된 길이를 갖는 bool 배열입니다. 새로 만들어질 때 모든 bit 는 False 값을 갖습니다. 유용성을 높이기 위해 `__init__` 의 signature 를 변경해도 좋습니다."
   ]
  },
  {
   "cell_type": "code",
   "execution_count": 2,
   "metadata": {
    "collapsed": true
   },
   "outputs": [],
   "source": [
    "class BitVector:\n",
    "    def __init__(self, length):\n",
    "        raise NotImplementedError()\n"
   ]
  },
  {
   "cell_type": "markdown",
   "metadata": {},
   "source": [
    "## Quiz 3\n",
    "\n"
   ]
  },
  {
   "cell_type": "markdown",
   "metadata": {},
   "source": [
    "0 에서 $10^n-1$ 사이의 정수 $10^n$ 개 중에서, 뒤집어써도 같은 정수들의 개수를 세는 함수를 작성하세요. 뒤집어도 같은 정수란 3, 44, 12321 과 같은 정수들을 뜻합니다.\n"
   ]
  },
  {
   "cell_type": "code",
   "execution_count": 3,
   "metadata": {
    "collapsed": true
   },
   "outputs": [],
   "source": [
    "pal_list=[]\n",
    "num = 0\n",
    "n=10[num]-1\n",
    "def dec_pal(num):\n",
    "               \n",
    "    num_str = str(num)\n",
    "    num_len = len(num_str)\n",
    "    check = 0\n",
    "    for x in range(num_len):\n",
    "        if num_str[x] == num_str[-(x+1)]:\n",
    "            check += 1\n",
    "        else:\n",
    "            break\n",
    "    if check == num_len:\n",
    "        pal_list.append(num)\n",
    "\n",
    "while len(pal_list) < n:    \n",
    "\n",
    "    dec_pal(num)\n",
    "    num += 1\n",
    "\n",
    "print(pal_list[-1])\n"
   ]
  }
 ],
 "metadata": {
  "kernelspec": {
   "display_name": "Python 3",
   "language": "python",
   "name": "python3"
  },
  "language_info": {
   "codemirror_mode": {
    "name": "ipython",
    "version": 3
   },
   "file_extension": ".py",
   "mimetype": "text/x-python",
   "name": "python",
   "nbconvert_exporter": "python",
   "pygments_lexer": "ipython3",
   "version": "3.6.5"
  }
 },
 "nbformat": 4,
 "nbformat_minor": 2
}
